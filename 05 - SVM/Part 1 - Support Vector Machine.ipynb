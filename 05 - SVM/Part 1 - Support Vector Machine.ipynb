{
 "cells": [
  {
   "cell_type": "code",
   "execution_count": null,
   "metadata": {
    "colab": {},
    "colab_type": "code",
    "id": "pPVFM0Z7db1v"
   },
   "outputs": [],
   "source": [
    "from luwiji.svm import illustration, demo"
   ]
  },
  {
   "cell_type": "markdown",
   "metadata": {},
   "source": [
    "# Problem 1"
   ]
  },
  {
   "cell_type": "code",
   "execution_count": null,
   "metadata": {},
   "outputs": [],
   "source": [
    "demo.problem(1)"
   ]
  },
  {
   "cell_type": "code",
   "execution_count": null,
   "metadata": {},
   "outputs": [],
   "source": [
    "illustration.choose_one"
   ]
  },
  {
   "cell_type": "markdown",
   "metadata": {
    "colab_type": "text",
    "id": "YzrvUtprdb16"
   },
   "source": [
    "# Solusi: Mencari margin paling lebar\n",
    "\n",
    "SVM dulunya dikenal sebagai maximum margin classifier. Ternyata alternatif untuk memperoleh maximum margin adalah dengan mencari support vector (data yang dilingkari). Itulah mengapa nama algoritma ini juga disebut sebagai Support Vector Machine, yakni mesin pencari support vector. "
   ]
  },
  {
   "cell_type": "code",
   "execution_count": null,
   "metadata": {},
   "outputs": [],
   "source": [
    "illustration.maximum_margin"
   ]
  },
  {
   "cell_type": "markdown",
   "metadata": {
    "colab_type": "text",
    "id": "Xs_1LgYQdb2E"
   },
   "source": [
    "# $C$ - Penalty Parameter"
   ]
  },
  {
   "cell_type": "markdown",
   "metadata": {
    "colab_type": "text",
    "id": "amTG7gsJdb2F"
   },
   "source": [
    "Semakin besar $C$ => semakin besar penalty terhadap kesalahan => lebih sensitif<br>\n",
    "Semakin kecil $C$ => semakin toleran terhadap kesalahan => lebih smooth"
   ]
  },
  {
   "cell_type": "code",
   "execution_count": null,
   "metadata": {},
   "outputs": [],
   "source": [
    "demo.C(1)"
   ]
  },
  {
   "cell_type": "markdown",
   "metadata": {},
   "source": [
    "# Problem 2: Ternyata toleran saja tidak cukup"
   ]
  },
  {
   "cell_type": "code",
   "execution_count": null,
   "metadata": {},
   "outputs": [],
   "source": [
    "demo.problem(2)"
   ]
  },
  {
   "cell_type": "code",
   "execution_count": null,
   "metadata": {},
   "outputs": [],
   "source": [
    "demo.C(2)"
   ]
  },
  {
   "cell_type": "markdown",
   "metadata": {},
   "source": [
    "# Solusi: kita butuh Perspektif baru -> Kernel Trick\n",
    "\n",
    "Ide nya adalah kita melakukan transformasi data-data kita ke dimensi lain<br>\n",
    "Misalkan kita transformasi menggunakan persamaan distribusi Gaussian<br>\n",
    "Maka kita menyebutnya sebagai SVM menggunakan kernel Gaussian\n",
    "\n",
    "Kernel Gaussian merupakan salah satu dari keluarga RBF (Radial Basis Function)"
   ]
  },
  {
   "cell_type": "code",
   "execution_count": null,
   "metadata": {},
   "outputs": [],
   "source": [
    "demo.rbf()"
   ]
  },
  {
   "cell_type": "code",
   "execution_count": null,
   "metadata": {},
   "outputs": [],
   "source": [
    "demo.kernel(2)"
   ]
  },
  {
   "cell_type": "markdown",
   "metadata": {},
   "source": [
    "# Problem 3: Scale"
   ]
  },
  {
   "cell_type": "code",
   "execution_count": null,
   "metadata": {},
   "outputs": [],
   "source": [
    "demo.problem(3)"
   ]
  },
  {
   "cell_type": "code",
   "execution_count": null,
   "metadata": {},
   "outputs": [],
   "source": [
    "demo.kernel(3)"
   ]
  },
  {
   "cell_type": "markdown",
   "metadata": {},
   "source": [
    "# Solusi: big picture vs detail oriented -> $\\gamma$ kernel coefficient"
   ]
  },
  {
   "cell_type": "markdown",
   "metadata": {},
   "source": [
    "Semakin besar $\\gamma$ => semakin detail oriented => lebih sensitif<br>\n",
    "Semakin kecil $\\gamma$ => semakin melihat big picture => lebih smooth"
   ]
  },
  {
   "cell_type": "code",
   "execution_count": null,
   "metadata": {},
   "outputs": [],
   "source": [
    "demo.gamma()"
   ]
  },
  {
   "cell_type": "code",
   "execution_count": null,
   "metadata": {},
   "outputs": [],
   "source": [
    "demo.svm()"
   ]
  },
  {
   "cell_type": "markdown",
   "metadata": {},
   "source": [
    "**Note**: hindari menggunakan gamma yang terlalu besar karena cenderung overfit<br>\n",
    "**Tips**: Hal ini juga bisa diatasi menggunakan scaling. Scaling juga dikenal dapat membantu SVM"
   ]
  }
 ],
 "metadata": {
  "colab": {
   "collapsed_sections": [],
   "name": "SVM_part1_Linear Support Vector Machine.ipynb",
   "provenance": [],
   "toc_visible": true,
   "version": "0.3.2"
  },
  "kernelspec": {
   "display_name": "Belajar_ML_JCOP",
   "language": "python",
   "name": "python3"
  },
  "language_info": {
   "codemirror_mode": {
    "name": "ipython",
    "version": 3
   },
   "file_extension": ".py",
   "mimetype": "text/x-python",
   "name": "python",
   "nbconvert_exporter": "python",
   "pygments_lexer": "ipython3",
   "version": "3.11.0"
  }
 },
 "nbformat": 4,
 "nbformat_minor": 1
}
